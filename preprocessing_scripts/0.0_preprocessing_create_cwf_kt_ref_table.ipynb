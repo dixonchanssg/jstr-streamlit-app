{
 "cells": [
  {
   "cell_type": "markdown",
   "id": "ab95d21a",
   "metadata": {},
   "source": [
    "#### Create a reference dataframe with index, CWF ID, CWF, and a list of KTs"
   ]
  },
  {
   "cell_type": "code",
   "execution_count": 7,
   "id": "87610e4c",
   "metadata": {},
   "outputs": [],
   "source": [
    "import pandas as pd"
   ]
  },
  {
   "cell_type": "code",
   "execution_count": 8,
   "id": "01c721d9",
   "metadata": {},
   "outputs": [],
   "source": [
    "# Read in all SFw job roles with their associated CWF Clusters \n",
    "df_cwf = pd.read_excel('data_raw/job role_cwf.xlsx')"
   ]
  },
  {
   "cell_type": "code",
   "execution_count": 9,
   "id": "f3ed5003",
   "metadata": {},
   "outputs": [],
   "source": [
    "# Create a reference table for CWF_ID->KT\n",
    "cwf_kt = df_cwf.groupby('Function ID')['Key Tasks'].apply(list)\n",
    "cwf_kt = pd.DataFrame(cwf_kt).reset_index()"
   ]
  },
  {
   "cell_type": "code",
   "execution_count": 10,
   "id": "eeae0d03",
   "metadata": {},
   "outputs": [],
   "source": [
    "# Create a reference table for CWF_ID->CWF\n",
    "df_lookup = df_cwf[['Function ID', 'Critical Work Function']].drop_duplicates()\n",
    "df_lookup  = df_lookup.sort_values(by='Function ID', ascending=True)"
   ]
  },
  {
   "cell_type": "code",
   "execution_count": 11,
   "id": "85b99127",
   "metadata": {},
   "outputs": [],
   "source": [
    "# Create a reference table with index, CWF_ID, CWF, and a list of KT related to the CWF\n",
    "cwf_kt = pd.merge(cwf_kt, df_lookup[['Function ID', 'Critical Work Function']], on = 'Function ID', how = 'left')\n",
    "cwf_kt['index'] = cwf_kt.index\n",
    "cwf_kt = cwf_kt[['index', 'Function ID', 'Critical Work Function', 'Key Tasks']]"
   ]
  },
  {
   "cell_type": "code",
   "execution_count": 12,
   "id": "e1c28c70",
   "metadata": {},
   "outputs": [],
   "source": [
    "#Remove for production\n",
    "cwf_kt.to_csv('data_processed/cwf_kt.csv', index=False)"
   ]
  },
  {
   "cell_type": "code",
   "execution_count": null,
   "id": "64dfa20c",
   "metadata": {},
   "outputs": [],
   "source": []
  },
  {
   "cell_type": "code",
   "execution_count": null,
   "id": "f5a8779a",
   "metadata": {},
   "outputs": [],
   "source": []
  },
  {
   "cell_type": "code",
   "execution_count": null,
   "id": "51db0cc4",
   "metadata": {},
   "outputs": [],
   "source": []
  }
 ],
 "metadata": {
  "kernelspec": {
   "display_name": "Python 3 (ipykernel)",
   "language": "python",
   "name": "python3"
  },
  "language_info": {
   "codemirror_mode": {
    "name": "ipython",
    "version": 3
   },
   "file_extension": ".py",
   "mimetype": "text/x-python",
   "name": "python",
   "nbconvert_exporter": "python",
   "pygments_lexer": "ipython3",
   "version": "3.8.8"
  }
 },
 "nbformat": 4,
 "nbformat_minor": 5
}
