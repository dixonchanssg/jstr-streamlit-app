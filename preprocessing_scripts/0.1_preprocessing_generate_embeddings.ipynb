{
 "cells": [
  {
   "cell_type": "code",
   "execution_count": 44,
   "id": "da35ad1f",
   "metadata": {},
   "outputs": [
    {
     "name": "stdout",
     "output_type": "stream",
     "text": [
      "/Users/eugenechua/Downloads/jstr-streamlit-app/preprocessing_scripts\n"
     ]
    }
   ],
   "source": [
    "import pandas as pd\n",
    "import numpy as np\n",
    "from datetime import datetime\n",
    "from sentence_transformers import SentenceTransformer\n",
    "import os\n",
    "\n",
    "print(os.getcwd())"
   ]
  },
  {
   "cell_type": "code",
   "execution_count": 45,
   "id": "bd1c0b00",
   "metadata": {},
   "outputs": [
    {
     "name": "stdout",
     "output_type": "stream",
     "text": [
      "(6902, 4)\n"
     ]
    }
   ],
   "source": [
    "# Need to rerun this every time the SFw is updated.\n",
    "df = pd.read_csv(\"/Users/eugenechua/Downloads/jstr-streamlit-app/data_processed/cwf_kt.csv\")\n",
    "\n",
    "print(df.shape)"
   ]
  },
  {
   "cell_type": "code",
   "execution_count": 5,
   "id": "20ebf036",
   "metadata": {},
   "outputs": [
    {
     "name": "stderr",
     "output_type": "stream",
     "text": [
      "Downloading (…)821d1/.gitattributes: 100%|██████████| 391/391 [00:00<00:00, 638kB/s]\n",
      "Downloading (…)_Pooling/config.json: 100%|██████████| 190/190 [00:00<00:00, 845kB/s]\n",
      "Downloading (…)8d01e821d1/README.md: 100%|██████████| 3.95k/3.95k [00:00<00:00, 10.8MB/s]\n",
      "Downloading (…)d1/added_tokens.json: 100%|██████████| 2.00/2.00 [00:00<00:00, 5.78kB/s]\n",
      "Downloading (…)01e821d1/config.json: 100%|██████████| 625/625 [00:00<00:00, 1.45MB/s]\n",
      "Downloading (…)ce_transformers.json: 100%|██████████| 122/122 [00:00<00:00, 343kB/s]\n",
      "Downloading pytorch_model.bin: 100%|██████████| 438M/438M [00:07<00:00, 55.5MB/s] \n",
      "Downloading (…)nce_bert_config.json: 100%|██████████| 53.0/53.0 [00:00<00:00, 143kB/s]\n",
      "Downloading (…)cial_tokens_map.json: 100%|██████████| 112/112 [00:00<00:00, 269kB/s]\n",
      "Downloading (…)821d1/tokenizer.json: 100%|██████████| 466k/466k [00:00<00:00, 15.4MB/s]\n",
      "Downloading (…)okenizer_config.json: 100%|██████████| 399/399 [00:00<00:00, 1.09MB/s]\n",
      "Downloading (…)8d01e821d1/vocab.txt: 100%|██████████| 232k/232k [00:00<00:00, 85.5MB/s]\n",
      "Downloading (…)1e821d1/modules.json: 100%|██████████| 229/229 [00:00<00:00, 858kB/s]\n"
     ]
    }
   ],
   "source": [
    "# Initialize the SentenceTransformer model\n",
    "model = SentenceTransformer('bert-base-nli-mean-tokens')"
   ]
  },
  {
   "cell_type": "code",
   "execution_count": 6,
   "id": "49db1837",
   "metadata": {},
   "outputs": [
    {
     "name": "stdout",
     "output_type": "stream",
     "text": [
      "Encoding started at 17:40\n",
      "Encoding ended at 17:43\n"
     ]
    }
   ],
   "source": [
    "print(f\"Encoding started at {datetime.now().strftime('%H:%M')}\")\n",
    "embeddings = model.encode(df['Key Tasks'])\n",
    "print(f\"Encoding ended at {datetime.now().strftime('%H:%M')}\")"
   ]
  },
  {
   "cell_type": "code",
   "execution_count": 7,
   "id": "bd8fb46b",
   "metadata": {
    "collapsed": true
   },
   "outputs": [
    {
     "data": {
      "text/plain": [
       "(6902, 768)"
      ]
     },
     "execution_count": 7,
     "metadata": {},
     "output_type": "execute_result"
    }
   ],
   "source": [
    "embeddings.shape"
   ]
  },
  {
   "cell_type": "code",
   "execution_count": 6,
   "id": "6ac799de",
   "metadata": {},
   "outputs": [],
   "source": [
    "# Save the embeddings to a file\n",
    "np.save(\"data_processed/embeddings.npy\", embeddings)"
   ]
  },
  {
   "cell_type": "code",
   "execution_count": 46,
   "id": "2c76f1a4",
   "metadata": {},
   "outputs": [],
   "source": [
    "#Now doing it for mpnet - initializing now!\n",
    "mpnet_model = SentenceTransformer('all-mpnet-base-v2')"
   ]
  },
  {
   "cell_type": "code",
   "execution_count": 47,
   "id": "614aae4c",
   "metadata": {},
   "outputs": [
    {
     "data": {
      "text/plain": [
       "0       ['analyse branch staff portfolios to ensure re...\n",
       "1       ['analyse the portfolio of the various branche...\n",
       "2       ['document sales transactions', 'provide consu...\n",
       "3       ['sell products and services', 'document sales...\n",
       "4       ['communicate scheduled sales reports in accor...\n",
       "                              ...                        \n",
       "6897    ['collate information for product and process ...\n",
       "6898    ['interpret illustrations, computer-aided desi...\n",
       "6899    ['create design visuals from verbal briefs', '...\n",
       "6900    ['manage employee exit processes, including co...\n",
       "6901    ['advise business leaders on exiting employees...\n",
       "Name: Key Tasks, Length: 6902, dtype: object"
      ]
     },
     "execution_count": 47,
     "metadata": {},
     "output_type": "execute_result"
    }
   ],
   "source": [
    "df['Key Tasks']"
   ]
  },
  {
   "cell_type": "code",
   "execution_count": 6,
   "id": "9e7900b0",
   "metadata": {},
   "outputs": [
    {
     "name": "stdout",
     "output_type": "stream",
     "text": [
      "Encoding started at 18:15\n",
      "Encoding ended at 18:19\n"
     ]
    }
   ],
   "source": [
    "print(f\"Encoding started at {datetime.now().strftime('%H:%M')}\")\n",
    "mpnet_embeddings = mpnet_model.encode(df['Key Tasks'])\n",
    "print(f\"Encoding ended at {datetime.now().strftime('%H:%M')}\")"
   ]
  },
  {
   "cell_type": "code",
   "execution_count": 7,
   "id": "ea532282",
   "metadata": {},
   "outputs": [],
   "source": [
    "#Saving the mpnet embeddings\n",
    "np.save('/Users/eugenechua/Downloads/jstr-streamlit-app/data_processed/mpnet_embeddings.npy', mpnet_embeddings)"
   ]
  },
  {
   "cell_type": "code",
   "execution_count": 8,
   "id": "c617d5cc",
   "metadata": {},
   "outputs": [
    {
     "data": {
      "text/plain": [
       "(6902, 768)"
      ]
     },
     "execution_count": 8,
     "metadata": {},
     "output_type": "execute_result"
    }
   ],
   "source": [
    "mpnet_embeddings.shape"
   ]
  },
  {
   "cell_type": "code",
   "execution_count": 48,
   "id": "169e42bb",
   "metadata": {},
   "outputs": [
    {
     "data": {
      "text/html": [
       "<div>\n",
       "<style scoped>\n",
       "    .dataframe tbody tr th:only-of-type {\n",
       "        vertical-align: middle;\n",
       "    }\n",
       "\n",
       "    .dataframe tbody tr th {\n",
       "        vertical-align: top;\n",
       "    }\n",
       "\n",
       "    .dataframe thead th {\n",
       "        text-align: right;\n",
       "    }\n",
       "</style>\n",
       "<table border=\"1\" class=\"dataframe\">\n",
       "  <thead>\n",
       "    <tr style=\"text-align: right;\">\n",
       "      <th></th>\n",
       "      <th>Job Title</th>\n",
       "      <th>Job Description</th>\n",
       "      <th>Skills</th>\n",
       "    </tr>\n",
       "  </thead>\n",
       "  <tbody>\n",
       "    <tr>\n",
       "      <th>0</th>\n",
       "      <td>IRAS MX13_12</td>\n",
       "      <td>This role requires the officer to provide resp...</td>\n",
       "      <td>Service Quality Management, e.g. manage, devel...</td>\n",
       "    </tr>\n",
       "  </tbody>\n",
       "</table>\n",
       "</div>"
      ],
      "text/plain": [
       "      Job Title                                    Job Description  \\\n",
       "0  IRAS MX13_12  This role requires the officer to provide resp...   \n",
       "\n",
       "                                              Skills  \n",
       "0  Service Quality Management, e.g. manage, devel...  "
      ]
     },
     "execution_count": 48,
     "metadata": {},
     "output_type": "execute_result"
    }
   ],
   "source": [
    "df_test = pd.read_csv('/Users/eugenechua/Downloads/jstr-streamlit-app/data_raw/uploaded_dataset_short.csv')\n",
    "\n",
    "df_test"
   ]
  },
  {
   "cell_type": "code",
   "execution_count": 58,
   "id": "98462f01",
   "metadata": {},
   "outputs": [
    {
     "name": "stdout",
     "output_type": "stream",
     "text": [
      "IRAS MX13_12 This role requires the officer to provide responsive and timely end-to-end administration of Individual Income Tax, which includes service delivery, tax assessment, and the use of technologies to improve service experience and streamline processes. \n",
      "\n",
      "Areas of work:\n",
      "Service Delivery\n",
      "- Handle enquires across multiple contact channels such as letters, emails, appeals and correspondences within agreed turnaround time.  Enquiries ranges from general issues, case-specific or complex issues.   \n",
      "- Understand the profile of stakeholders, identifies their needs and nudge them towards self-help channels\n",
      "- Is proficient in using various digital tools and systems to provide service to taxpayers\n",
      "- Keep abreast of tax and service developments to provide up-to-date and accurate advice to stakeholders\n",
      "\n",
      "Tax Assessment\n",
      "- Handle exceptions or complicated cases that cannot be auto-processed by the system\n",
      "- Conduct post-assessment review on straight-through processed cases to identify system enhancements to be made\n",
      "- Keep abreast of tax developments to effectively process Income Tax Returns/forms and review of Relief/Exemptions under Double Taxation Agreements and other schemes\n",
      "\n",
      "Work under direct supervision. Accountable for tasks assigned and need to apply tax knowledge and principles. Identify opportunities for improvements in work procedures and expected to improve quality of work with training/ coaching.   \n",
      "Work independently with minimal  supervision. Accountable for a broader set of tasks assigned. Understand and apply more in-depth tax knowledge. Review and evaluate problems and recommend solutions. Research specific topics and brainstrom to improve work processes and procedures with other team members.  Adopts Whole-of-IRAS mindset and  collaborate with others to identify value-adding opportunities.\n"
     ]
    }
   ],
   "source": [
    "for index, row in df_test.iterrows():\n",
    "    print(row[0], row[1])"
   ]
  },
  {
   "cell_type": "code",
   "execution_count": 60,
   "id": "05e89378",
   "metadata": {},
   "outputs": [
    {
     "name": "stdout",
     "output_type": "stream",
     "text": [
      "IRAS MX13_12 This role requires the officer to provide responsive and timely end-to-end administration of Individual Income Tax, which includes service delivery, tax assessment, and the use of technologies to improve service experience and streamline processes. \n",
      "\n",
      "Areas of work:\n",
      "Service Delivery\n",
      "- Handle enquires across multiple contact channels such as letters, emails, appeals and correspondences within agreed turnaround time.  Enquiries ranges from general issues, case-specific or complex issues.   \n",
      "- Understand the profile of stakeholders, identifies their needs and nudge them towards self-help channels\n",
      "- Is proficient in using various digital tools and systems to provide service to taxpayers\n",
      "- Keep abreast of tax and service developments to provide up-to-date and accurate advice to stakeholders\n",
      "\n",
      "Tax Assessment\n",
      "- Handle exceptions or complicated cases that cannot be auto-processed by the system\n",
      "- Conduct post-assessment review on straight-through processed cases to identify system enhancements to be made\n",
      "- Keep abreast of tax developments to effectively process Income Tax Returns/forms and review of Relief/Exemptions under Double Taxation Agreements and other schemes\n",
      "\n",
      "Work under direct supervision. Accountable for tasks assigned and need to apply tax knowledge and principles. Identify opportunities for improvements in work procedures and expected to improve quality of work with training/ coaching.   \n",
      "Work independently with minimal  supervision. Accountable for a broader set of tasks assigned. Understand and apply more in-depth tax knowledge. Review and evaluate problems and recommend solutions. Research specific topics and brainstrom to improve work processes and procedures with other team members.  Adopts Whole-of-IRAS mindset and  collaborate with others to identify value-adding opportunities.\n"
     ]
    }
   ],
   "source": [
    "for row in df_test.itertuples():\n",
    "    print(row[1],row[2])"
   ]
  },
  {
   "cell_type": "code",
   "execution_count": null,
   "id": "a4f31c1d",
   "metadata": {},
   "outputs": [],
   "source": []
  }
 ],
 "metadata": {
  "kernelspec": {
   "display_name": "Python 3 (ipykernel)",
   "language": "python",
   "name": "python3"
  },
  "language_info": {
   "codemirror_mode": {
    "name": "ipython",
    "version": 3
   },
   "file_extension": ".py",
   "mimetype": "text/x-python",
   "name": "python",
   "nbconvert_exporter": "python",
   "pygments_lexer": "ipython3",
   "version": "3.10.6"
  }
 },
 "nbformat": 4,
 "nbformat_minor": 5
}
