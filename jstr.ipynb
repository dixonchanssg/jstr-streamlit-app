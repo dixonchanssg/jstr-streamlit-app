{
 "cells": [
  {
   "cell_type": "markdown",
   "id": "2df5e8c6",
   "metadata": {},
   "source": [
    "### JSTR for Streamlit\n",
    "\n"
   ]
  },
  {
   "cell_type": "code",
   "execution_count": 1,
   "id": "456f196f",
   "metadata": {},
   "outputs": [],
   "source": [
    "import pandas as pd\n",
    "import numpy as np\n",
    "import helper as hp"
   ]
  },
  {
   "cell_type": "markdown",
   "id": "1c9b4b3a",
   "metadata": {},
   "source": [
    "#### Part 1.2 Read in CSV uploaded by user in Streamlit, whereby:\n",
    "#### 1st colum: job role\n",
    "#### 2nd column: job description\n",
    "#### 3rd column: skills"
   ]
  },
  {
   "cell_type": "code",
   "execution_count": 2,
   "id": "a7120430",
   "metadata": {},
   "outputs": [],
   "source": [
    "## Codes to read in input file via streamlit and save as \"uploaded_dataset.csv\"\n",
    "## Minimally, 1st col = job title/archetype\n",
    "## 2nd col = job description\n",
    "## 3rd col (optional) = skills. if 3rd col is missing, then skills are inferred from 2nd col."
   ]
  },
  {
   "cell_type": "code",
   "execution_count": 3,
   "id": "ef3ca016",
   "metadata": {},
   "outputs": [],
   "source": [
    "#################################################################################\n",
    "# For Jupyter Notebook, Assume \"uploaded_dataset.csv\" is uploaded from Streamlit#\n",
    "#################################################################################\n",
    "df = pd.read_csv(\"data_raw/uploaded_dataset_short.csv\")\n",
    "df_uploaded = df.copy()"
   ]
  },
  {
   "cell_type": "code",
   "execution_count": 4,
   "id": "0c6fd894",
   "metadata": {},
   "outputs": [],
   "source": [
    "# Read in all SFw job roles with their associated CWF Clusters \n",
    "df_cwf = pd.read_excel('data_raw/job role_cwf.xlsx')\n",
    "# Load cwf kt reference table (this is an output from preprocessing step 0.1)\n",
    "cwf_kt = pd.read_csv(\"data_processed/cwf_kt.csv\")\n",
    "# Read SFw Database - Job Role (Key) (To extract Average TSC Levels - use it to filter unrealistic adjacent pairs)\n",
    "sfw_df = pd.read_excel('data_raw\\SFw Database_27Jul_2022.xlsx', sheet_name='Job Role (Key)')\n",
    "# Load SSOC->SFw Job Role Reference Table\n",
    "df_ssoc = pd.read_excel('data_raw\\SFw Database_27Jul_2022.xlsx', sheet_name='Job Role_SSOC')\n",
    "# Load SSOC->Wages Reference Table\n",
    "df_salary = pd.read_csv('data_raw\\wages_2022.csv')\n",
    "# Load SSOC->Demand Reference Table\n",
    "df_demand = pd.read_csv('data_raw\\jobdemand_2022.csv')\n",
    "# Load 11K->2K Skills SEA Mapping Table\n",
    "df_sea = pd.read_excel(\"data_raw/2k_to_11k_mapping_include_skills_tag_20220914_SIPD_V02.xlsx\", sheet_name=\"2k_to_11k_mapping_include_skill\")\n",
    "# Load SFw Job Role->TSC Mapping Table\n",
    "df_sfw = pd.read_excel(\"data_raw/SFw Database_27Jul_2022.xlsx\", sheet_name=\"Job Role_TSC\")\n",
    "# Load item-job_roles IDs\n",
    "df_item_jobroles = pd.read_csv(\"data_raw/item_job_roles.csv\")\n",
    "# Load skills_demand table\n",
    "df_skill_demand = pd.read_csv(\"data_raw/stats_year_ssoc_tsc.csv\")"
   ]
  },
  {
   "cell_type": "code",
   "execution_count": 5,
   "id": "55556698",
   "metadata": {},
   "outputs": [],
   "source": [
    "# Extract values from the first column in the uploaded data and populate the uploaded_job_titles list\n",
    "uploaded_job_titles = []\n",
    "uploaded_job_titles = df.iloc[:, 0].tolist()"
   ]
  },
  {
   "cell_type": "markdown",
   "id": "ccd59a60",
   "metadata": {},
   "source": [
    "#### Part 1.3 Add raw job description for the uploaded job roles in 'cwf_kt.csv', find most similar cwf clusters for each job roles and stores output to dataframe list"
   ]
  },
  {
   "cell_type": "code",
   "execution_count": 6,
   "id": "daf7677e",
   "metadata": {},
   "outputs": [],
   "source": [
    "# Add raw job description for the uploaded job roles in 'cwf_kt.csv', \n",
    "# find most similar cwf clusters for each job roles and stores output to dataframe list\n",
    "# Create an empty list to store cwf_kt DataFrames for all the job titles in uploaded dataset\n",
    "all_cwf_kt_df = []\n",
    "\n",
    "# Loop through each row and call generate_similar_cwf_kt() for the value in the first column\n",
    "for index, row in df.iterrows():\n",
    "    # Check if job_title is NaN\n",
    "    # if pd.isna(row.iloc[0]):\n",
    "    #    break\n",
    "    job_title = row.iloc[0]\n",
    "    job_desc = row.iloc[1]\n",
    "    result_df = hp.generate_similar_cwf_kt(index, job_title, job_desc)\n",
    "    all_cwf_kt_df.append(result_df)"
   ]
  },
  {
   "cell_type": "markdown",
   "id": "7bdc3347",
   "metadata": {},
   "source": [
    "#### Part 1.4 - Populate all_cwf_kt_df [ ] with Function ID, Sector, Track, Job role, L1/2/3 clusters"
   ]
  },
  {
   "cell_type": "code",
   "execution_count": 7,
   "id": "982bb0a6",
   "metadata": {},
   "outputs": [],
   "source": [
    "#def populateCWFClusters(df):"
   ]
  },
  {
   "cell_type": "code",
   "execution_count": 8,
   "id": "1a4eedd9",
   "metadata": {},
   "outputs": [],
   "source": [
    "# Populate all_cwf_kt_df [ ] with Function ID, Sector, Track, Job role, L1/2/3 clusters\n",
    "# Create an empty list to store the resulting DataFrames\n",
    "populated_df = []\n",
    "\n",
    "# Iterate over the list of DataFrames and apply the function\n",
    "for df in all_cwf_kt_df:\n",
    "    result_df = hp.populateCWFClusters(df, cwf_kt, df_cwf)\n",
    "    populated_df.append(result_df) "
   ]
  },
  {
   "cell_type": "markdown",
   "id": "ecb5faa0",
   "metadata": {},
   "source": [
    "#### Part 2 Prepare df_jobrole_cwf for JSTR"
   ]
  },
  {
   "cell_type": "code",
   "execution_count": 9,
   "id": "038176ce",
   "metadata": {},
   "outputs": [],
   "source": [
    "df_jobrole_cwf = hp.prepareJobroleCWF(df_cwf, populated_df, uploaded_job_titles)"
   ]
  },
  {
   "cell_type": "markdown",
   "id": "f84c9919",
   "metadata": {},
   "source": [
    "#### Part 3.1 - Data preparation to Run JSTR"
   ]
  },
  {
   "cell_type": "code",
   "execution_count": 10,
   "id": "2e1f04b8",
   "metadata": {},
   "outputs": [],
   "source": [
    "#dataPrepForJSTR(df_jobrole_cwf)"
   ]
  },
  {
   "cell_type": "code",
   "execution_count": 11,
   "id": "8adef7f3",
   "metadata": {},
   "outputs": [],
   "source": [
    "JobCWF_df = hp.dataPrepForJSTR(df_jobrole_cwf)"
   ]
  },
  {
   "cell_type": "markdown",
   "id": "af4a1a14",
   "metadata": {},
   "source": [
    "#### Part 3.2 - Compute Job Adjacency Scores based on CWF Clusters"
   ]
  },
  {
   "cell_type": "code",
   "execution_count": 12,
   "id": "2f4ff403",
   "metadata": {},
   "outputs": [],
   "source": [
    "#computeJobAdjacency(df_job_cwf)\n",
    "df_cwf = hp.computeJobAdjacency(JobCWF_df)"
   ]
  },
  {
   "cell_type": "markdown",
   "id": "5e49583c",
   "metadata": {},
   "source": [
    "#### Part 3.3 - Populate job pairs with job title"
   ]
  },
  {
   "cell_type": "code",
   "execution_count": 13,
   "id": "9bb2f3f4",
   "metadata": {},
   "outputs": [],
   "source": [
    "# populateJobPairsWithJobTitle(df_jobrole_cwf, df_cwf, sfw_df)"
   ]
  },
  {
   "cell_type": "code",
   "execution_count": 14,
   "id": "e5f55fc9",
   "metadata": {},
   "outputs": [],
   "source": [
    "df_cwf = hp.populateJobPairsWithJobTitle(df_jobrole_cwf, df_cwf, sfw_df)"
   ]
  },
  {
   "cell_type": "markdown",
   "id": "333d6800",
   "metadata": {},
   "source": [
    "### 3.4 Populate SSOC for destination jobs"
   ]
  },
  {
   "cell_type": "code",
   "execution_count": 15,
   "id": "a0026911",
   "metadata": {},
   "outputs": [],
   "source": [
    "# populateSSOCforDestJobs(df_cwf, df_ssoc)"
   ]
  },
  {
   "cell_type": "code",
   "execution_count": 16,
   "id": "e23fe8ce",
   "metadata": {},
   "outputs": [],
   "source": [
    "df_cwf = hp.populateSSOCforDestJobs(df_cwf, df_ssoc)"
   ]
  },
  {
   "cell_type": "markdown",
   "id": "d77aeff9",
   "metadata": {},
   "source": [
    "#### 3.5 Populate Jobtech salary data"
   ]
  },
  {
   "cell_type": "code",
   "execution_count": 17,
   "id": "86ab7918",
   "metadata": {},
   "outputs": [],
   "source": [
    "# populateSalaryforDestJobs(df_cwf, df_salary)"
   ]
  },
  {
   "cell_type": "code",
   "execution_count": 18,
   "id": "d119c428",
   "metadata": {},
   "outputs": [],
   "source": [
    "df_cwf = hp.populateSalaryforDestJobs(df_cwf, df_salary)"
   ]
  },
  {
   "cell_type": "markdown",
   "id": "65a07c19",
   "metadata": {},
   "source": [
    "#### 3.6 Populate Jobtech job demand data"
   ]
  },
  {
   "cell_type": "code",
   "execution_count": 19,
   "id": "30feecf9",
   "metadata": {},
   "outputs": [],
   "source": [
    "# hp.populateDemandforDestJobs(df_cwf, df_demand)"
   ]
  },
  {
   "cell_type": "code",
   "execution_count": 20,
   "id": "1376d48f",
   "metadata": {},
   "outputs": [],
   "source": [
    "df_cwf = hp.populateDemandforDestJobs(df_cwf, df_demand)"
   ]
  },
  {
   "cell_type": "markdown",
   "id": "429e55ce",
   "metadata": {},
   "source": [
    "#### 4.1 Extract Skills from Uploaded Dataset"
   ]
  },
  {
   "cell_type": "code",
   "execution_count": 21,
   "id": "6c931e72",
   "metadata": {},
   "outputs": [],
   "source": [
    "# extractSkillsfromUploadedFile (df_uploaded, df_skills)"
   ]
  },
  {
   "cell_type": "code",
   "execution_count": 22,
   "id": "15e6ead4",
   "metadata": {},
   "outputs": [],
   "source": [
    "df_skills = pd.DataFrame()\n",
    "df_skills = hp.extractSkillsfromUploadedFile(df_uploaded, df_skills)"
   ]
  },
  {
   "cell_type": "markdown",
   "id": "26e7ebf8",
   "metadata": {},
   "source": [
    "#### 4.2 Convert SFw Database JobRole-to-TSC to JobRole-to-SEA"
   ]
  },
  {
   "cell_type": "code",
   "execution_count": 23,
   "id": "c81e79c3",
   "metadata": {},
   "outputs": [],
   "source": [
    "#convertTSCtoSEA (df_sea, df_sfw, df_item_jobroles)"
   ]
  },
  {
   "cell_type": "code",
   "execution_count": 24,
   "id": "b6fef510",
   "metadata": {},
   "outputs": [],
   "source": [
    "df_sfw = hp.convertTSCtoSEA (df_sea, df_sfw, df_item_jobroles)"
   ]
  },
  {
   "cell_type": "markdown",
   "id": "eab7b3ff",
   "metadata": {},
   "source": [
    "#### 4.3 Load JSTR Output and populate the skills data"
   ]
  },
  {
   "cell_type": "markdown",
   "id": "990280ad",
   "metadata": {},
   "source": [
    "#### 4.4 Merge JSTR Output with SEA Skills"
   ]
  },
  {
   "cell_type": "code",
   "execution_count": 25,
   "id": "dea8f59b",
   "metadata": {},
   "outputs": [],
   "source": [
    "# mapDestSSOC(df_cwf, df_ssoc)\n",
    "df_cwf = hp.mergeOutputwithSEASkills(df_cwf, df_ssoc, df_sfw, df_skills, df_skill_demand)"
   ]
  },
  {
   "cell_type": "code",
   "execution_count": 26,
   "id": "cc612d05",
   "metadata": {},
   "outputs": [],
   "source": [
    "df_cwf.to_csv(\"data_processed/jstr_output.csv\", index=False)"
   ]
  },
  {
   "cell_type": "code",
   "execution_count": null,
   "id": "bf05ae9c",
   "metadata": {},
   "outputs": [],
   "source": []
  }
 ],
 "metadata": {
  "kernelspec": {
   "display_name": "Python 3 (ipykernel)",
   "language": "python",
   "name": "python3"
  },
  "language_info": {
   "codemirror_mode": {
    "name": "ipython",
    "version": 3
   },
   "file_extension": ".py",
   "mimetype": "text/x-python",
   "name": "python",
   "nbconvert_exporter": "python",
   "pygments_lexer": "ipython3",
   "version": "3.8.8"
  }
 },
 "nbformat": 4,
 "nbformat_minor": 5
}
